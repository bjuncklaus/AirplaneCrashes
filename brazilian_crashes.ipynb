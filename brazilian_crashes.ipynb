{
 "cells": [
  {
   "cell_type": "code",
   "execution_count": 1,
   "metadata": {},
   "outputs": [],
   "source": [
    "import pandas as pd"
   ]
  },
  {
   "cell_type": "code",
   "execution_count": 2,
   "metadata": {},
   "outputs": [],
   "source": [
    "df = pd.read_csv('Airplane_Crashes_and_Fatalities_Since_1908.csv')"
   ]
  },
  {
   "cell_type": "code",
   "execution_count": 3,
   "metadata": {},
   "outputs": [
    {
     "data": {
      "text/html": [
       "<div>\n",
       "<style>\n",
       "    .dataframe thead tr:only-child th {\n",
       "        text-align: right;\n",
       "    }\n",
       "\n",
       "    .dataframe thead th {\n",
       "        text-align: left;\n",
       "    }\n",
       "\n",
       "    .dataframe tbody tr th {\n",
       "        vertical-align: top;\n",
       "    }\n",
       "</style>\n",
       "<table border=\"1\" class=\"dataframe\">\n",
       "  <thead>\n",
       "    <tr style=\"text-align: right;\">\n",
       "      <th></th>\n",
       "      <th>Date</th>\n",
       "      <th>Time</th>\n",
       "      <th>Location</th>\n",
       "      <th>Operator</th>\n",
       "      <th>Flight #</th>\n",
       "      <th>Route</th>\n",
       "      <th>Type</th>\n",
       "      <th>Registration</th>\n",
       "      <th>cn/In</th>\n",
       "      <th>Aboard</th>\n",
       "      <th>Fatalities</th>\n",
       "      <th>Ground</th>\n",
       "      <th>Summary</th>\n",
       "    </tr>\n",
       "  </thead>\n",
       "  <tbody>\n",
       "    <tr>\n",
       "      <th>0</th>\n",
       "      <td>09/17/1908</td>\n",
       "      <td>17:18</td>\n",
       "      <td>Fort Myer, Virginia</td>\n",
       "      <td>Military - U.S. Army</td>\n",
       "      <td>NaN</td>\n",
       "      <td>Demonstration</td>\n",
       "      <td>Wright Flyer III</td>\n",
       "      <td>NaN</td>\n",
       "      <td>1</td>\n",
       "      <td>2.0</td>\n",
       "      <td>1.0</td>\n",
       "      <td>0.0</td>\n",
       "      <td>During a demonstration flight, a U.S. Army fly...</td>\n",
       "    </tr>\n",
       "    <tr>\n",
       "      <th>1</th>\n",
       "      <td>07/12/1912</td>\n",
       "      <td>06:30</td>\n",
       "      <td>AtlantiCity, New Jersey</td>\n",
       "      <td>Military - U.S. Navy</td>\n",
       "      <td>NaN</td>\n",
       "      <td>Test flight</td>\n",
       "      <td>Dirigible</td>\n",
       "      <td>NaN</td>\n",
       "      <td>NaN</td>\n",
       "      <td>5.0</td>\n",
       "      <td>5.0</td>\n",
       "      <td>0.0</td>\n",
       "      <td>First U.S. dirigible Akron exploded just offsh...</td>\n",
       "    </tr>\n",
       "    <tr>\n",
       "      <th>2</th>\n",
       "      <td>08/06/1913</td>\n",
       "      <td>NaN</td>\n",
       "      <td>Victoria, British Columbia, Canada</td>\n",
       "      <td>Private</td>\n",
       "      <td>-</td>\n",
       "      <td>NaN</td>\n",
       "      <td>Curtiss seaplane</td>\n",
       "      <td>NaN</td>\n",
       "      <td>NaN</td>\n",
       "      <td>1.0</td>\n",
       "      <td>1.0</td>\n",
       "      <td>0.0</td>\n",
       "      <td>The first fatal airplane accident in Canada oc...</td>\n",
       "    </tr>\n",
       "    <tr>\n",
       "      <th>3</th>\n",
       "      <td>09/09/1913</td>\n",
       "      <td>18:30</td>\n",
       "      <td>Over the North Sea</td>\n",
       "      <td>Military - German Navy</td>\n",
       "      <td>NaN</td>\n",
       "      <td>NaN</td>\n",
       "      <td>Zeppelin L-1 (airship)</td>\n",
       "      <td>NaN</td>\n",
       "      <td>NaN</td>\n",
       "      <td>20.0</td>\n",
       "      <td>14.0</td>\n",
       "      <td>0.0</td>\n",
       "      <td>The airship flew into a thunderstorm and encou...</td>\n",
       "    </tr>\n",
       "    <tr>\n",
       "      <th>4</th>\n",
       "      <td>10/17/1913</td>\n",
       "      <td>10:30</td>\n",
       "      <td>Near Johannisthal, Germany</td>\n",
       "      <td>Military - German Navy</td>\n",
       "      <td>NaN</td>\n",
       "      <td>NaN</td>\n",
       "      <td>Zeppelin L-2 (airship)</td>\n",
       "      <td>NaN</td>\n",
       "      <td>NaN</td>\n",
       "      <td>30.0</td>\n",
       "      <td>30.0</td>\n",
       "      <td>0.0</td>\n",
       "      <td>Hydrogen gas which was being vented was sucked...</td>\n",
       "    </tr>\n",
       "  </tbody>\n",
       "</table>\n",
       "</div>"
      ],
      "text/plain": [
       "         Date   Time                            Location  \\\n",
       "0  09/17/1908  17:18                 Fort Myer, Virginia   \n",
       "1  07/12/1912  06:30             AtlantiCity, New Jersey   \n",
       "2  08/06/1913    NaN  Victoria, British Columbia, Canada   \n",
       "3  09/09/1913  18:30                  Over the North Sea   \n",
       "4  10/17/1913  10:30          Near Johannisthal, Germany   \n",
       "\n",
       "                 Operator Flight #          Route                    Type  \\\n",
       "0    Military - U.S. Army      NaN  Demonstration        Wright Flyer III   \n",
       "1    Military - U.S. Navy      NaN    Test flight               Dirigible   \n",
       "2                 Private        -            NaN        Curtiss seaplane   \n",
       "3  Military - German Navy      NaN            NaN  Zeppelin L-1 (airship)   \n",
       "4  Military - German Navy      NaN            NaN  Zeppelin L-2 (airship)   \n",
       "\n",
       "  Registration cn/In  Aboard  Fatalities  Ground  \\\n",
       "0          NaN     1     2.0         1.0     0.0   \n",
       "1          NaN   NaN     5.0         5.0     0.0   \n",
       "2          NaN   NaN     1.0         1.0     0.0   \n",
       "3          NaN   NaN    20.0        14.0     0.0   \n",
       "4          NaN   NaN    30.0        30.0     0.0   \n",
       "\n",
       "                                             Summary  \n",
       "0  During a demonstration flight, a U.S. Army fly...  \n",
       "1  First U.S. dirigible Akron exploded just offsh...  \n",
       "2  The first fatal airplane accident in Canada oc...  \n",
       "3  The airship flew into a thunderstorm and encou...  \n",
       "4  Hydrogen gas which was being vented was sucked...  "
      ]
     },
     "execution_count": 3,
     "metadata": {},
     "output_type": "execute_result"
    }
   ],
   "source": [
    "df.head()"
   ]
  },
  {
   "cell_type": "code",
   "execution_count": 15,
   "metadata": {},
   "outputs": [
    {
     "data": {
      "text/plain": [
       "False"
      ]
     },
     "execution_count": 15,
     "metadata": {},
     "output_type": "execute_result"
    }
   ],
   "source": [
    "df.Location.dropna(inplace=True)\n",
    "'brazil' in df.Location.values"
   ]
  },
  {
   "cell_type": "code",
   "execution_count": 19,
   "metadata": {},
   "outputs": [
    {
     "data": {
      "text/plain": [
       "191"
      ]
     },
     "execution_count": 19,
     "metadata": {},
     "output_type": "execute_result"
    }
   ],
   "source": [
    "locations = [location for location in df.Location.values if 'Brazil' in location]\n",
    "len(locations)"
   ]
  },
  {
   "cell_type": "code",
   "execution_count": 25,
   "metadata": {},
   "outputs": [],
   "source": [
    "df_locations = pd.DataFrame(locations, columns=['Location'])"
   ]
  },
  {
   "cell_type": "code",
   "execution_count": 26,
   "metadata": {},
   "outputs": [
    {
     "data": {
      "text/plain": [
       "Sao Paulo, Brazil                         15\n",
       "Rio de Janeiro, Brazil                    14\n",
       "Belem, Brazil                              4\n",
       "Near Manaus, Brazil                        3\n",
       "Belo Horizonte, Brazil                     3\n",
       "Curitiba, Brazil                           2\n",
       "Near Curitiba, Brazil                      2\n",
       "Rio de Janerio, Brazil                     2\n",
       "Off Macae, Brazil                          2\n",
       "Campinas, Brazil                           2\n",
       "Carajas, Brazil                            2\n",
       "Cuiaba, Brazil                             2\n",
       "Off Rio de Janeiro, Brazil                 2\n",
       "Near Sao Paulo, Brazil                     2\n",
       "Porto Alegre, Brazil                       2\n",
       "Near Rio de Janeiro, Brazil                2\n",
       "Brazil                                     2\n",
       "Rio Doce, Brazil                           2\n",
       "Rio Branco, Brazil                         2\n",
       "Florianopolis, Brazil                      2\n",
       "Belem, Para, Brazil                        1\n",
       "Gravata, Brazil                            1\n",
       "Manacapuru River, Brazil                   1\n",
       "Manacapuru, Brazil                         1\n",
       "Imperatriz, Brazil                         1\n",
       "Uberaba, Brazil                            1\n",
       "Near Belo Horizonte, Brazil                1\n",
       "Guanabara, Brazil                          1\n",
       "Vitoria, Brazil                            1\n",
       "Sena Madureira, Brazil                     1\n",
       "                                          ..\n",
       "Near Florianpolis, Brazil                  1\n",
       "Near Petrolia, Brazil                      1\n",
       "Miritituba, Brazil                         1\n",
       "Near Brasilia, Brazil                      1\n",
       "Off Florianopolis, Brazil                  1\n",
       "Sao Pedro da Aldeia, Brazil                1\n",
       "Jaquirana, Brazil                          1\n",
       "San Fransisco do Paula, Brazil             1\n",
       "Rio Azul Farm, Brazil                      1\n",
       "Vitória da Conquista, Brazil               1\n",
       "Near Natal, Brazil                         1\n",
       "Sao Francisco Bay, Brazil                  1\n",
       "Bahia, Brazil                              1\n",
       "Near Carolina, Brazil                      1\n",
       "Off Fernando de Noronha, Brazil            1\n",
       "Aracaju, Brazil                            1\n",
       "Caparao Mountain, Brazil                   1\n",
       "Off the Brazilian coast,  AtlantiOcean     1\n",
       "Tabatinga, Brazil                          1\n",
       "Pelotas, Brazil                            1\n",
       "Near Coari, Brazil                         1\n",
       "Anchieta Island, Brazil                    1\n",
       "Off Macae , Rio de Janeiro , Brazil        1\n",
       "Juiz De Fora, Brazil                       1\n",
       "Porte Alegre, Brazil                       1\n",
       "Vitoria da Conquista, Brazil               1\n",
       "Off Vila dos Remidos, Brazil               1\n",
       "Brasillia, Brazil                          1\n",
       "Lagoa Santa, Brazil                        1\n",
       "Uberlandia,  Brazil                        1\n",
       "Name: Location, Length: 142, dtype: int64"
      ]
     },
     "execution_count": 26,
     "metadata": {},
     "output_type": "execute_result"
    }
   ],
   "source": [
    "df_locations.Location.value_counts()"
   ]
  }
 ],
 "metadata": {
  "kernelspec": {
   "display_name": "Python 3",
   "language": "python",
   "name": "python3"
  },
  "language_info": {
   "codemirror_mode": {
    "name": "ipython",
    "version": 3
   },
   "file_extension": ".py",
   "mimetype": "text/x-python",
   "name": "python",
   "nbconvert_exporter": "python",
   "pygments_lexer": "ipython3",
   "version": "3.6.2"
  }
 },
 "nbformat": 4,
 "nbformat_minor": 2
}
