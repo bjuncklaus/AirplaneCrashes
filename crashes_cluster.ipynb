{
 "cells": [
  {
   "cell_type": "code",
   "execution_count": 1,
   "metadata": {},
   "outputs": [
    {
     "name": "stdout",
     "output_type": "stream",
     "text": [
      "Requirement already satisfied: wordcloud in /home/bmartins/workspace/virtualenv_python3.5/lib/python3.5/site-packages\n",
      "Requirement already satisfied: matplotlib in /home/bmartins/workspace/virtualenv_python3.5/lib/python3.5/site-packages (from wordcloud)\n",
      "Requirement already satisfied: pillow in /home/bmartins/workspace/virtualenv_python3.5/lib/python3.5/site-packages (from wordcloud)\n",
      "Requirement already satisfied: numpy>=1.6.1 in /home/bmartins/workspace/virtualenv_python3.5/lib/python3.5/site-packages (from wordcloud)\n",
      "Requirement already satisfied: pytz in /home/bmartins/workspace/virtualenv_python3.5/lib/python3.5/site-packages (from matplotlib->wordcloud)\n",
      "Requirement already satisfied: pyparsing!=2.0.0,!=2.0.4,!=2.1.2,!=2.1.6,>=1.5.6 in /home/bmartins/workspace/virtualenv_python3.5/lib/python3.5/site-packages (from matplotlib->wordcloud)\n",
      "Requirement already satisfied: python-dateutil in /home/bmartins/workspace/virtualenv_python3.5/lib/python3.5/site-packages (from matplotlib->wordcloud)\n",
      "Requirement already satisfied: six>=1.10 in /home/bmartins/workspace/virtualenv_python3.5/lib/python3.5/site-packages (from matplotlib->wordcloud)\n",
      "Requirement already satisfied: cycler>=0.10 in /home/bmartins/workspace/virtualenv_python3.5/lib/python3.5/site-packages (from matplotlib->wordcloud)\n",
      "Requirement already satisfied: olefile in /home/bmartins/workspace/virtualenv_python3.5/lib/python3.5/site-packages (from pillow->wordcloud)\n"
     ]
    }
   ],
   "source": [
    "!pip install wordcloud"
   ]
  },
  {
   "cell_type": "code",
   "execution_count": 2,
   "metadata": {
    "collapsed": true
   },
   "outputs": [],
   "source": [
    "from wordcloud import WordCloud\n",
    "import matplotlib.pyplot as plt\n",
    "import pandas as pd"
   ]
  },
  {
   "cell_type": "code",
   "execution_count": 3,
   "metadata": {
    "collapsed": true
   },
   "outputs": [],
   "source": [
    "df = pd.read_csv('Airplane_Crashes_and_Fatalities_Since_1908.csv')"
   ]
  },
  {
   "cell_type": "code",
   "execution_count": 5,
   "metadata": {},
   "outputs": [
    {
     "data": {
      "text/plain": [
       "Index(['Date', 'Time', 'Location', 'Operator', 'Flight #', 'Route', 'Type',\n",
       "       'Registration', 'cn/In', 'Aboard', 'Fatalities', 'Ground', 'Summary'],\n",
       "      dtype='object')"
      ]
     },
     "execution_count": 5,
     "metadata": {},
     "output_type": "execute_result"
    }
   ],
   "source": [
    "df.columns"
   ]
  },
  {
   "cell_type": "code",
   "execution_count": 6,
   "metadata": {},
   "outputs": [
    {
     "data": {
      "text/html": [
       "<div>\n",
       "<style>\n",
       "    .dataframe thead tr:only-child th {\n",
       "        text-align: right;\n",
       "    }\n",
       "\n",
       "    .dataframe thead th {\n",
       "        text-align: left;\n",
       "    }\n",
       "\n",
       "    .dataframe tbody tr th {\n",
       "        vertical-align: top;\n",
       "    }\n",
       "</style>\n",
       "<table border=\"1\" class=\"dataframe\">\n",
       "  <thead>\n",
       "    <tr style=\"text-align: right;\">\n",
       "      <th></th>\n",
       "      <th>Date</th>\n",
       "      <th>Time</th>\n",
       "      <th>Location</th>\n",
       "      <th>Operator</th>\n",
       "      <th>Flight #</th>\n",
       "      <th>Route</th>\n",
       "      <th>Type</th>\n",
       "      <th>Registration</th>\n",
       "      <th>cn/In</th>\n",
       "      <th>Aboard</th>\n",
       "      <th>Fatalities</th>\n",
       "      <th>Ground</th>\n",
       "      <th>Summary</th>\n",
       "    </tr>\n",
       "  </thead>\n",
       "  <tbody>\n",
       "    <tr>\n",
       "      <th>0</th>\n",
       "      <td>09/17/1908</td>\n",
       "      <td>17:18</td>\n",
       "      <td>Fort Myer, Virginia</td>\n",
       "      <td>Military - U.S. Army</td>\n",
       "      <td>NaN</td>\n",
       "      <td>Demonstration</td>\n",
       "      <td>Wright Flyer III</td>\n",
       "      <td>NaN</td>\n",
       "      <td>1</td>\n",
       "      <td>2.0</td>\n",
       "      <td>1.0</td>\n",
       "      <td>0.0</td>\n",
       "      <td>During a demonstration flight, a U.S. Army fly...</td>\n",
       "    </tr>\n",
       "    <tr>\n",
       "      <th>1</th>\n",
       "      <td>07/12/1912</td>\n",
       "      <td>06:30</td>\n",
       "      <td>AtlantiCity, New Jersey</td>\n",
       "      <td>Military - U.S. Navy</td>\n",
       "      <td>NaN</td>\n",
       "      <td>Test flight</td>\n",
       "      <td>Dirigible</td>\n",
       "      <td>NaN</td>\n",
       "      <td>NaN</td>\n",
       "      <td>5.0</td>\n",
       "      <td>5.0</td>\n",
       "      <td>0.0</td>\n",
       "      <td>First U.S. dirigible Akron exploded just offsh...</td>\n",
       "    </tr>\n",
       "    <tr>\n",
       "      <th>2</th>\n",
       "      <td>08/06/1913</td>\n",
       "      <td>NaN</td>\n",
       "      <td>Victoria, British Columbia, Canada</td>\n",
       "      <td>Private</td>\n",
       "      <td>-</td>\n",
       "      <td>NaN</td>\n",
       "      <td>Curtiss seaplane</td>\n",
       "      <td>NaN</td>\n",
       "      <td>NaN</td>\n",
       "      <td>1.0</td>\n",
       "      <td>1.0</td>\n",
       "      <td>0.0</td>\n",
       "      <td>The first fatal airplane accident in Canada oc...</td>\n",
       "    </tr>\n",
       "    <tr>\n",
       "      <th>3</th>\n",
       "      <td>09/09/1913</td>\n",
       "      <td>18:30</td>\n",
       "      <td>Over the North Sea</td>\n",
       "      <td>Military - German Navy</td>\n",
       "      <td>NaN</td>\n",
       "      <td>NaN</td>\n",
       "      <td>Zeppelin L-1 (airship)</td>\n",
       "      <td>NaN</td>\n",
       "      <td>NaN</td>\n",
       "      <td>20.0</td>\n",
       "      <td>14.0</td>\n",
       "      <td>0.0</td>\n",
       "      <td>The airship flew into a thunderstorm and encou...</td>\n",
       "    </tr>\n",
       "    <tr>\n",
       "      <th>4</th>\n",
       "      <td>10/17/1913</td>\n",
       "      <td>10:30</td>\n",
       "      <td>Near Johannisthal, Germany</td>\n",
       "      <td>Military - German Navy</td>\n",
       "      <td>NaN</td>\n",
       "      <td>NaN</td>\n",
       "      <td>Zeppelin L-2 (airship)</td>\n",
       "      <td>NaN</td>\n",
       "      <td>NaN</td>\n",
       "      <td>30.0</td>\n",
       "      <td>30.0</td>\n",
       "      <td>0.0</td>\n",
       "      <td>Hydrogen gas which was being vented was sucked...</td>\n",
       "    </tr>\n",
       "  </tbody>\n",
       "</table>\n",
       "</div>"
      ],
      "text/plain": [
       "         Date   Time                            Location  \\\n",
       "0  09/17/1908  17:18                 Fort Myer, Virginia   \n",
       "1  07/12/1912  06:30             AtlantiCity, New Jersey   \n",
       "2  08/06/1913    NaN  Victoria, British Columbia, Canada   \n",
       "3  09/09/1913  18:30                  Over the North Sea   \n",
       "4  10/17/1913  10:30          Near Johannisthal, Germany   \n",
       "\n",
       "                 Operator Flight #          Route                    Type  \\\n",
       "0    Military - U.S. Army      NaN  Demonstration        Wright Flyer III   \n",
       "1    Military - U.S. Navy      NaN    Test flight               Dirigible   \n",
       "2                 Private        -            NaN        Curtiss seaplane   \n",
       "3  Military - German Navy      NaN            NaN  Zeppelin L-1 (airship)   \n",
       "4  Military - German Navy      NaN            NaN  Zeppelin L-2 (airship)   \n",
       "\n",
       "  Registration cn/In  Aboard  Fatalities  Ground  \\\n",
       "0          NaN     1     2.0         1.0     0.0   \n",
       "1          NaN   NaN     5.0         5.0     0.0   \n",
       "2          NaN   NaN     1.0         1.0     0.0   \n",
       "3          NaN   NaN    20.0        14.0     0.0   \n",
       "4          NaN   NaN    30.0        30.0     0.0   \n",
       "\n",
       "                                             Summary  \n",
       "0  During a demonstration flight, a U.S. Army fly...  \n",
       "1  First U.S. dirigible Akron exploded just offsh...  \n",
       "2  The first fatal airplane accident in Canada oc...  \n",
       "3  The airship flew into a thunderstorm and encou...  \n",
       "4  Hydrogen gas which was being vented was sucked...  "
      ]
     },
     "execution_count": 6,
     "metadata": {},
     "output_type": "execute_result"
    }
   ],
   "source": [
    "df.head()"
   ]
  },
  {
   "cell_type": "code",
   "execution_count": 7,
   "metadata": {},
   "outputs": [
    {
     "data": {
      "text/plain": [
       "0     During a demonstration flight, a U.S. Army fly...\n",
       "1     First U.S. dirigible Akron exploded just offsh...\n",
       "2     The first fatal airplane accident in Canada oc...\n",
       "3     The airship flew into a thunderstorm and encou...\n",
       "4     Hydrogen gas which was being vented was sucked...\n",
       "5     Crashed into trees while attempting to land af...\n",
       "6     Exploded and burned near Neuwerk Island,  when...\n",
       "7            Crashed near the Black Sea, cause unknown.\n",
       "8     Shot down by British aircraft crashing in flames.\n",
       "9     Shot down in flames by the British 39th Home D...\n",
       "10                                  Crashed in a storm.\n",
       "11    Shot down by British anti-aircraft fire and ai...\n",
       "12                             Caught fire and crashed.\n",
       "13    Struck by lightning and crashed into the Balti...\n",
       "14    Crashed into the sea from an altitude of 3,000...\n",
       "15                       Shot down by British aircraft.\n",
       "16                       Shot down by British aircraft.\n",
       "17              Shot down by French anti-aircraft fire.\n",
       "18    Exploded and crashed into the sea off the sout...\n",
       "19    Shot down by British aircraft crashing from a ...\n",
       "Name: Summary, dtype: object"
      ]
     },
     "execution_count": 7,
     "metadata": {},
     "output_type": "execute_result"
    }
   ],
   "source": [
    "df.Summary.head(n=20)"
   ]
  },
  {
   "cell_type": "code",
   "execution_count": 13,
   "metadata": {},
   "outputs": [
    {
     "data": {
      "text/html": [
       "<div>\n",
       "<style>\n",
       "    .dataframe thead tr:only-child th {\n",
       "        text-align: right;\n",
       "    }\n",
       "\n",
       "    .dataframe thead th {\n",
       "        text-align: left;\n",
       "    }\n",
       "\n",
       "    .dataframe tbody tr th {\n",
       "        vertical-align: top;\n",
       "    }\n",
       "</style>\n",
       "<table border=\"1\" class=\"dataframe\">\n",
       "  <thead>\n",
       "    <tr style=\"text-align: right;\">\n",
       "      <th></th>\n",
       "      <th>Date</th>\n",
       "      <th>Time</th>\n",
       "      <th>Location</th>\n",
       "      <th>Operator</th>\n",
       "      <th>Flight #</th>\n",
       "      <th>Route</th>\n",
       "      <th>Type</th>\n",
       "      <th>Registration</th>\n",
       "      <th>cn/In</th>\n",
       "      <th>Aboard</th>\n",
       "      <th>Fatalities</th>\n",
       "      <th>Ground</th>\n",
       "      <th>Summary</th>\n",
       "    </tr>\n",
       "  </thead>\n",
       "  <tbody>\n",
       "  </tbody>\n",
       "</table>\n",
       "</div>"
      ],
      "text/plain": [
       "Empty DataFrame\n",
       "Columns: [Date, Time, Location, Operator, Flight #, Route, Type, Registration, cn/In, Aboard, Fatalities, Ground, Summary]\n",
       "Index: []"
      ]
     },
     "execution_count": 13,
     "metadata": {},
     "output_type": "execute_result"
    }
   ],
   "source": [
    "df[df.Summary == '']"
   ]
  },
  {
   "cell_type": "code",
   "execution_count": 15,
   "metadata": {},
   "outputs": [
    {
     "data": {
      "text/html": [
       "<div>\n",
       "<style>\n",
       "    .dataframe thead tr:only-child th {\n",
       "        text-align: right;\n",
       "    }\n",
       "\n",
       "    .dataframe thead th {\n",
       "        text-align: left;\n",
       "    }\n",
       "\n",
       "    .dataframe tbody tr th {\n",
       "        vertical-align: top;\n",
       "    }\n",
       "</style>\n",
       "<table border=\"1\" class=\"dataframe\">\n",
       "  <thead>\n",
       "    <tr style=\"text-align: right;\">\n",
       "      <th></th>\n",
       "      <th>Date</th>\n",
       "      <th>Time</th>\n",
       "      <th>Location</th>\n",
       "      <th>Operator</th>\n",
       "      <th>Flight #</th>\n",
       "      <th>Route</th>\n",
       "      <th>Type</th>\n",
       "      <th>Registration</th>\n",
       "      <th>cn/In</th>\n",
       "      <th>Aboard</th>\n",
       "      <th>Fatalities</th>\n",
       "      <th>Ground</th>\n",
       "      <th>Summary</th>\n",
       "    </tr>\n",
       "  </thead>\n",
       "  <tbody>\n",
       "  </tbody>\n",
       "</table>\n",
       "</div>"
      ],
      "text/plain": [
       "Empty DataFrame\n",
       "Columns: [Date, Time, Location, Operator, Flight #, Route, Type, Registration, cn/In, Aboard, Fatalities, Ground, Summary]\n",
       "Index: []"
      ]
     },
     "execution_count": 15,
     "metadata": {},
     "output_type": "execute_result"
    }
   ],
   "source": [
    "df[df.Summary == None]"
   ]
  },
  {
   "cell_type": "code",
   "execution_count": 19,
   "metadata": {
    "collapsed": true
   },
   "outputs": [],
   "source": [
    "from nltk.stem.porter import PorterStemmer\n",
    "import numpy as np"
   ]
  },
  {
   "cell_type": "code",
   "execution_count": 17,
   "metadata": {
    "collapsed": true
   },
   "outputs": [],
   "source": [
    "stemmer = PorterStemmer()\n",
    "\n",
    "def stem(text):\n",
    "    text_stem = [stemmer.stem(token) for token in text.split(' ')]\n",
    "    text_stem_join = ' '.join(text_stem)\n",
    "    return text_stem_join"
   ]
  },
  {
   "cell_type": "code",
   "execution_count": 27,
   "metadata": {},
   "outputs": [
    {
     "data": {
      "text/plain": [
       "(5268,)"
      ]
     },
     "execution_count": 27,
     "metadata": {},
     "output_type": "execute_result"
    }
   ],
   "source": [
    "corpus = np.array(df.Summary)\n",
    "corpus.shape"
   ]
  },
  {
   "cell_type": "code",
   "execution_count": 28,
   "metadata": {},
   "outputs": [
    {
     "ename": "AttributeError",
     "evalue": "'float' object has no attribute 'split'",
     "output_type": "error",
     "traceback": [
      "\u001b[0;31m---------------------------------------------------------------------------\u001b[0m",
      "\u001b[0;31mAttributeError\u001b[0m                            Traceback (most recent call last)",
      "\u001b[0;32m<ipython-input-28-6896ffbb463d>\u001b[0m in \u001b[0;36m<module>\u001b[0;34m()\u001b[0m\n\u001b[0;32m----> 1\u001b[0;31m \u001b[0mstemmed_corpus\u001b[0m \u001b[0;34m=\u001b[0m \u001b[0mlist\u001b[0m\u001b[0;34m(\u001b[0m\u001b[0mmap\u001b[0m\u001b[0;34m(\u001b[0m\u001b[0mstem\u001b[0m\u001b[0;34m,\u001b[0m \u001b[0mcorpus\u001b[0m\u001b[0;34m)\u001b[0m\u001b[0;34m)\u001b[0m\u001b[0;34m\u001b[0m\u001b[0m\n\u001b[0m",
      "\u001b[0;32m<ipython-input-17-b084034504d0>\u001b[0m in \u001b[0;36mstem\u001b[0;34m(text)\u001b[0m\n\u001b[1;32m      2\u001b[0m \u001b[0;34m\u001b[0m\u001b[0m\n\u001b[1;32m      3\u001b[0m \u001b[0;32mdef\u001b[0m \u001b[0mstem\u001b[0m\u001b[0;34m(\u001b[0m\u001b[0mtext\u001b[0m\u001b[0;34m)\u001b[0m\u001b[0;34m:\u001b[0m\u001b[0;34m\u001b[0m\u001b[0m\n\u001b[0;32m----> 4\u001b[0;31m     \u001b[0mtext_stem\u001b[0m \u001b[0;34m=\u001b[0m \u001b[0;34m[\u001b[0m\u001b[0mstemmer\u001b[0m\u001b[0;34m.\u001b[0m\u001b[0mstem\u001b[0m\u001b[0;34m(\u001b[0m\u001b[0mtoken\u001b[0m\u001b[0;34m)\u001b[0m \u001b[0;32mfor\u001b[0m \u001b[0mtoken\u001b[0m \u001b[0;32min\u001b[0m \u001b[0mtext\u001b[0m\u001b[0;34m.\u001b[0m\u001b[0msplit\u001b[0m\u001b[0;34m(\u001b[0m\u001b[0;34m' '\u001b[0m\u001b[0;34m)\u001b[0m\u001b[0;34m]\u001b[0m\u001b[0;34m\u001b[0m\u001b[0m\n\u001b[0m\u001b[1;32m      5\u001b[0m     \u001b[0mtext_stem_join\u001b[0m \u001b[0;34m=\u001b[0m \u001b[0;34m' '\u001b[0m\u001b[0;34m.\u001b[0m\u001b[0mjoin\u001b[0m\u001b[0;34m(\u001b[0m\u001b[0mtext_stem\u001b[0m\u001b[0;34m)\u001b[0m\u001b[0;34m\u001b[0m\u001b[0m\n\u001b[1;32m      6\u001b[0m     \u001b[0;32mreturn\u001b[0m \u001b[0mtext_stem_join\u001b[0m\u001b[0;34m\u001b[0m\u001b[0m\n",
      "\u001b[0;31mAttributeError\u001b[0m: 'float' object has no attribute 'split'"
     ]
    }
   ],
   "source": [
    "stemmed_corpus = list(map(stem, corpus)) # corpus is a numpy array FIXME"
   ]
  },
  {
   "cell_type": "code",
   "execution_count": null,
   "metadata": {
    "collapsed": true
   },
   "outputs": [],
   "source": []
  }
 ],
 "metadata": {
  "kernelspec": {
   "display_name": "Python 3",
   "language": "python",
   "name": "python3"
  },
  "language_info": {
   "codemirror_mode": {
    "name": "ipython",
    "version": 3
   },
   "file_extension": ".py",
   "mimetype": "text/x-python",
   "name": "python",
   "nbconvert_exporter": "python",
   "pygments_lexer": "ipython3",
   "version": "3.5.3"
  }
 },
 "nbformat": 4,
 "nbformat_minor": 2
}
