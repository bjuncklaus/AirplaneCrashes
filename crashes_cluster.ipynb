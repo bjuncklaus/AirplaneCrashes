{
 "cells": [
  {
   "cell_type": "code",
   "execution_count": 2,
   "metadata": {},
   "outputs": [
    {
     "name": "stdout",
     "output_type": "stream",
     "text": [
      "Requirement already satisfied: wordcloud in /home/bmartins/workspace/virtualenv_python3.5/lib/python3.5/site-packages\r\n",
      "Requirement already satisfied: pillow in /home/bmartins/workspace/virtualenv_python3.5/lib/python3.5/site-packages (from wordcloud)\r\n",
      "Requirement already satisfied: matplotlib in /home/bmartins/workspace/virtualenv_python3.5/lib/python3.5/site-packages (from wordcloud)\r\n",
      "Requirement already satisfied: numpy>=1.6.1 in /home/bmartins/workspace/virtualenv_python3.5/lib/python3.5/site-packages (from wordcloud)\r\n",
      "Requirement already satisfied: olefile in /home/bmartins/workspace/virtualenv_python3.5/lib/python3.5/site-packages (from pillow->wordcloud)\r\n",
      "Requirement already satisfied: pyparsing!=2.0.0,!=2.0.4,!=2.1.2,!=2.1.6,>=1.5.6 in /home/bmartins/workspace/virtualenv_python3.5/lib/python3.5/site-packages (from matplotlib->wordcloud)\r\n",
      "Requirement already satisfied: pytz in /home/bmartins/workspace/virtualenv_python3.5/lib/python3.5/site-packages (from matplotlib->wordcloud)\r\n",
      "Requirement already satisfied: python-dateutil in /home/bmartins/workspace/virtualenv_python3.5/lib/python3.5/site-packages (from matplotlib->wordcloud)\r\n",
      "Requirement already satisfied: cycler>=0.10 in /home/bmartins/workspace/virtualenv_python3.5/lib/python3.5/site-packages (from matplotlib->wordcloud)\r\n",
      "Requirement already satisfied: six>=1.10 in /home/bmartins/workspace/virtualenv_python3.5/lib/python3.5/site-packages (from matplotlib->wordcloud)\r\n"
     ]
    }
   ],
   "source": [
    "!pip install wordcloud"
   ]
  },
  {
   "cell_type": "code",
   "execution_count": 3,
   "metadata": {
    "collapsed": true
   },
   "outputs": [],
   "source": [
    "from wordcloud import WordCloud\n",
    "import matplotlib.pyplot as plt"
   ]
  },
  {
   "cell_type": "code",
   "execution_count": null,
   "metadata": {
    "collapsed": true
   },
   "outputs": [],
   "source": []
  }
 ],
 "metadata": {
  "kernelspec": {
   "display_name": "Python 3",
   "language": "python",
   "name": "python3"
  },
  "language_info": {
   "codemirror_mode": {
    "name": "ipython",
    "version": 3
   },
   "file_extension": ".py",
   "mimetype": "text/x-python",
   "name": "python",
   "nbconvert_exporter": "python",
   "pygments_lexer": "ipython3",
   "version": "3.5.3"
  }
 },
 "nbformat": 4,
 "nbformat_minor": 2
}
