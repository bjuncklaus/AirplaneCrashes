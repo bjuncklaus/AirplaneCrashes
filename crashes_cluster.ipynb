{
 "cells": [
  {
   "cell_type": "code",
   "execution_count": 105,
   "metadata": {},
   "outputs": [
    {
     "name": "stdout",
     "output_type": "stream",
     "text": [
      "Requirement already satisfied: wordcloud in /home/bmartins/workspace/virtualenv_python3.5/lib/python3.5/site-packages\r\n",
      "Requirement already satisfied: numpy>=1.6.1 in /home/bmartins/workspace/virtualenv_python3.5/lib/python3.5/site-packages (from wordcloud)\r\n",
      "Requirement already satisfied: matplotlib in /home/bmartins/workspace/virtualenv_python3.5/lib/python3.5/site-packages (from wordcloud)\r\n",
      "Requirement already satisfied: pillow in /home/bmartins/workspace/virtualenv_python3.5/lib/python3.5/site-packages (from wordcloud)\r\n",
      "Requirement already satisfied: pyparsing!=2.0.0,!=2.0.4,!=2.1.2,!=2.1.6,>=1.5.6 in /home/bmartins/workspace/virtualenv_python3.5/lib/python3.5/site-packages (from matplotlib->wordcloud)\r\n",
      "Requirement already satisfied: pytz in /home/bmartins/workspace/virtualenv_python3.5/lib/python3.5/site-packages (from matplotlib->wordcloud)\r\n",
      "Requirement already satisfied: six>=1.10 in /home/bmartins/workspace/virtualenv_python3.5/lib/python3.5/site-packages (from matplotlib->wordcloud)\r\n",
      "Requirement already satisfied: python-dateutil in /home/bmartins/workspace/virtualenv_python3.5/lib/python3.5/site-packages (from matplotlib->wordcloud)\r\n",
      "Requirement already satisfied: cycler>=0.10 in /home/bmartins/workspace/virtualenv_python3.5/lib/python3.5/site-packages (from matplotlib->wordcloud)\r\n",
      "Requirement already satisfied: olefile in /home/bmartins/workspace/virtualenv_python3.5/lib/python3.5/site-packages (from pillow->wordcloud)\r\n"
     ]
    }
   ],
   "source": [
    "!pip install wordcloud"
   ]
  },
  {
   "cell_type": "code",
   "execution_count": 106,
   "metadata": {
    "collapsed": true
   },
   "outputs": [],
   "source": [
    "from wordcloud import WordCloud\n",
    "import matplotlib.pyplot as plt\n",
    "import pandas as pd"
   ]
  },
  {
   "cell_type": "code",
   "execution_count": 107,
   "metadata": {
    "collapsed": true
   },
   "outputs": [],
   "source": [
    "df = pd.read_csv('Airplane_Crashes_and_Fatalities_Since_1908.csv')"
   ]
  },
  {
   "cell_type": "code",
   "execution_count": 108,
   "metadata": {},
   "outputs": [
    {
     "data": {
      "text/plain": [
       "Index(['Date', 'Time', 'Location', 'Operator', 'Flight #', 'Route', 'Type',\n",
       "       'Registration', 'cn/In', 'Aboard', 'Fatalities', 'Ground', 'Summary'],\n",
       "      dtype='object')"
      ]
     },
     "execution_count": 108,
     "metadata": {},
     "output_type": "execute_result"
    }
   ],
   "source": [
    "df.columns"
   ]
  },
  {
   "cell_type": "code",
   "execution_count": 109,
   "metadata": {},
   "outputs": [
    {
     "data": {
      "text/html": [
       "<div>\n",
       "<style>\n",
       "    .dataframe thead tr:only-child th {\n",
       "        text-align: right;\n",
       "    }\n",
       "\n",
       "    .dataframe thead th {\n",
       "        text-align: left;\n",
       "    }\n",
       "\n",
       "    .dataframe tbody tr th {\n",
       "        vertical-align: top;\n",
       "    }\n",
       "</style>\n",
       "<table border=\"1\" class=\"dataframe\">\n",
       "  <thead>\n",
       "    <tr style=\"text-align: right;\">\n",
       "      <th></th>\n",
       "      <th>Date</th>\n",
       "      <th>Time</th>\n",
       "      <th>Location</th>\n",
       "      <th>Operator</th>\n",
       "      <th>Flight #</th>\n",
       "      <th>Route</th>\n",
       "      <th>Type</th>\n",
       "      <th>Registration</th>\n",
       "      <th>cn/In</th>\n",
       "      <th>Aboard</th>\n",
       "      <th>Fatalities</th>\n",
       "      <th>Ground</th>\n",
       "      <th>Summary</th>\n",
       "    </tr>\n",
       "  </thead>\n",
       "  <tbody>\n",
       "    <tr>\n",
       "      <th>0</th>\n",
       "      <td>09/17/1908</td>\n",
       "      <td>17:18</td>\n",
       "      <td>Fort Myer, Virginia</td>\n",
       "      <td>Military - U.S. Army</td>\n",
       "      <td>NaN</td>\n",
       "      <td>Demonstration</td>\n",
       "      <td>Wright Flyer III</td>\n",
       "      <td>NaN</td>\n",
       "      <td>1</td>\n",
       "      <td>2.0</td>\n",
       "      <td>1.0</td>\n",
       "      <td>0.0</td>\n",
       "      <td>During a demonstration flight, a U.S. Army fly...</td>\n",
       "    </tr>\n",
       "    <tr>\n",
       "      <th>1</th>\n",
       "      <td>07/12/1912</td>\n",
       "      <td>06:30</td>\n",
       "      <td>AtlantiCity, New Jersey</td>\n",
       "      <td>Military - U.S. Navy</td>\n",
       "      <td>NaN</td>\n",
       "      <td>Test flight</td>\n",
       "      <td>Dirigible</td>\n",
       "      <td>NaN</td>\n",
       "      <td>NaN</td>\n",
       "      <td>5.0</td>\n",
       "      <td>5.0</td>\n",
       "      <td>0.0</td>\n",
       "      <td>First U.S. dirigible Akron exploded just offsh...</td>\n",
       "    </tr>\n",
       "    <tr>\n",
       "      <th>2</th>\n",
       "      <td>08/06/1913</td>\n",
       "      <td>NaN</td>\n",
       "      <td>Victoria, British Columbia, Canada</td>\n",
       "      <td>Private</td>\n",
       "      <td>-</td>\n",
       "      <td>NaN</td>\n",
       "      <td>Curtiss seaplane</td>\n",
       "      <td>NaN</td>\n",
       "      <td>NaN</td>\n",
       "      <td>1.0</td>\n",
       "      <td>1.0</td>\n",
       "      <td>0.0</td>\n",
       "      <td>The first fatal airplane accident in Canada oc...</td>\n",
       "    </tr>\n",
       "    <tr>\n",
       "      <th>3</th>\n",
       "      <td>09/09/1913</td>\n",
       "      <td>18:30</td>\n",
       "      <td>Over the North Sea</td>\n",
       "      <td>Military - German Navy</td>\n",
       "      <td>NaN</td>\n",
       "      <td>NaN</td>\n",
       "      <td>Zeppelin L-1 (airship)</td>\n",
       "      <td>NaN</td>\n",
       "      <td>NaN</td>\n",
       "      <td>20.0</td>\n",
       "      <td>14.0</td>\n",
       "      <td>0.0</td>\n",
       "      <td>The airship flew into a thunderstorm and encou...</td>\n",
       "    </tr>\n",
       "    <tr>\n",
       "      <th>4</th>\n",
       "      <td>10/17/1913</td>\n",
       "      <td>10:30</td>\n",
       "      <td>Near Johannisthal, Germany</td>\n",
       "      <td>Military - German Navy</td>\n",
       "      <td>NaN</td>\n",
       "      <td>NaN</td>\n",
       "      <td>Zeppelin L-2 (airship)</td>\n",
       "      <td>NaN</td>\n",
       "      <td>NaN</td>\n",
       "      <td>30.0</td>\n",
       "      <td>30.0</td>\n",
       "      <td>0.0</td>\n",
       "      <td>Hydrogen gas which was being vented was sucked...</td>\n",
       "    </tr>\n",
       "  </tbody>\n",
       "</table>\n",
       "</div>"
      ],
      "text/plain": [
       "         Date   Time                            Location  \\\n",
       "0  09/17/1908  17:18                 Fort Myer, Virginia   \n",
       "1  07/12/1912  06:30             AtlantiCity, New Jersey   \n",
       "2  08/06/1913    NaN  Victoria, British Columbia, Canada   \n",
       "3  09/09/1913  18:30                  Over the North Sea   \n",
       "4  10/17/1913  10:30          Near Johannisthal, Germany   \n",
       "\n",
       "                 Operator Flight #          Route                    Type  \\\n",
       "0    Military - U.S. Army      NaN  Demonstration        Wright Flyer III   \n",
       "1    Military - U.S. Navy      NaN    Test flight               Dirigible   \n",
       "2                 Private        -            NaN        Curtiss seaplane   \n",
       "3  Military - German Navy      NaN            NaN  Zeppelin L-1 (airship)   \n",
       "4  Military - German Navy      NaN            NaN  Zeppelin L-2 (airship)   \n",
       "\n",
       "  Registration cn/In  Aboard  Fatalities  Ground  \\\n",
       "0          NaN     1     2.0         1.0     0.0   \n",
       "1          NaN   NaN     5.0         5.0     0.0   \n",
       "2          NaN   NaN     1.0         1.0     0.0   \n",
       "3          NaN   NaN    20.0        14.0     0.0   \n",
       "4          NaN   NaN    30.0        30.0     0.0   \n",
       "\n",
       "                                             Summary  \n",
       "0  During a demonstration flight, a U.S. Army fly...  \n",
       "1  First U.S. dirigible Akron exploded just offsh...  \n",
       "2  The first fatal airplane accident in Canada oc...  \n",
       "3  The airship flew into a thunderstorm and encou...  \n",
       "4  Hydrogen gas which was being vented was sucked...  "
      ]
     },
     "execution_count": 109,
     "metadata": {},
     "output_type": "execute_result"
    }
   ],
   "source": [
    "df.head()"
   ]
  },
  {
   "cell_type": "code",
   "execution_count": 110,
   "metadata": {},
   "outputs": [
    {
     "data": {
      "text/plain": [
       "0       During a demonstration flight, a U.S. Army fly...\n",
       "1       First U.S. dirigible Akron exploded just offsh...\n",
       "2       The first fatal airplane accident in Canada oc...\n",
       "3       The airship flew into a thunderstorm and encou...\n",
       "4       Hydrogen gas which was being vented was sucked...\n",
       "5       Crashed into trees while attempting to land af...\n",
       "6       Exploded and burned near Neuwerk Island,  when...\n",
       "7              Crashed near the Black Sea, cause unknown.\n",
       "8       Shot down by British aircraft crashing in flames.\n",
       "9       Shot down in flames by the British 39th Home D...\n",
       "10                                    Crashed in a storm.\n",
       "11      Shot down by British anti-aircraft fire and ai...\n",
       "12                               Caught fire and crashed.\n",
       "13      Struck by lightning and crashed into the Balti...\n",
       "14      Crashed into the sea from an altitude of 3,000...\n",
       "15                         Shot down by British aircraft.\n",
       "16                         Shot down by British aircraft.\n",
       "17                Shot down by French anti-aircraft fire.\n",
       "18      Exploded and crashed into the sea off the sout...\n",
       "19      Shot down by British aircraft crashing from a ...\n",
       "20                         Shot down by british aircraft.\n",
       "22      Caught fire in midair. The pilot leaped from t...\n",
       "40                                 Crashed while landing.\n",
       "43                Crashed into a tree on take off in fog.\n",
       "55      Crashed due to structural failure followed by ...\n",
       "56      Crashed while making an approach to Le Bourget...\n",
       "58                           Crashed at Le Bourget field.\n",
       "59      Crashed from a height of 500 ft. after experie...\n",
       "60      A midair collision occurred in poor visibility...\n",
       "61           All seventeen aboard were Chinese nationals.\n",
       "                              ...                        \n",
       "5238    The cargo plane, chartered by FedEx, crashed w...\n",
       "5239    The charter aircraft crashed into a steep hill...\n",
       "5240    The Airbus A320 was leased by XL Airways of Ge...\n",
       "5241    The plane struck the side of El Yunque mountai...\n",
       "5242    The helicopter ferrying workers to an off shor...\n",
       "5243    The charter flight disappeared from radar 35 m...\n",
       "5244    A helicopter bound for offshore oil fields wen...\n",
       "5245    The plane was taking off from La Guardia Airpo...\n",
       "5246    The plane was being used as an air taxi to fer...\n",
       "5247    The plane, heading to Bologna to pick up a med...\n",
       "5248    The commuter plane crashed while attemptiong t...\n",
       "5249    The helicopter was carrying firemen to a nearb...\n",
       "5250    While attemping to take off from Luxor, the ca...\n",
       "5251    The plane was on final approach to Runway 18R ...\n",
       "5252    The cargo plane carrying and water purificatio...\n",
       "5253    The pilot reported a technical malfunction and...\n",
       "5254    The plane crashed 500 feet short of the runway...\n",
       "5255    The cargo plane crashed and burst into flame a...\n",
       "5256    The helicopter crashed 35 miles East of Crimon...\n",
       "5257    While returning from a military training exerc...\n",
       "5258    The cargo plane crashed into Gunung Pike mount...\n",
       "5259    The passenger plane crashed in poor weather in...\n",
       "5260    The plane, carrying 9 tourists, crashed 5 mile...\n",
       "5261    Crashed while en route on a ferrying flight. T...\n",
       "5262    The helicopter was patrolling along the Venezu...\n",
       "5263    While on approach, the military transport cras...\n",
       "5264    The cargo plane crashed while on approach to I...\n",
       "5265    The Airbus went missing over the AtlantiOcean ...\n",
       "5266    The air ambulance crashed into hills while att...\n",
       "5267    The military transport went missing while en r...\n",
       "Name: Summary, Length: 4878, dtype: object"
      ]
     },
     "execution_count": 110,
     "metadata": {},
     "output_type": "execute_result"
    }
   ],
   "source": [
    "df.Summary.dropna(inplace=True)\n",
    "df.Summary"
   ]
  },
  {
   "cell_type": "code",
   "execution_count": 111,
   "metadata": {
    "collapsed": true
   },
   "outputs": [],
   "source": [
    "from nltk.stem.porter import PorterStemmer\n",
    "import numpy as np"
   ]
  },
  {
   "cell_type": "code",
   "execution_count": 112,
   "metadata": {
    "collapsed": true
   },
   "outputs": [],
   "source": [
    "stemmer = PorterStemmer()\n",
    "\n",
    "def stem(text):\n",
    "    text_stem = [stemmer.stem(token) for token in text.split(' ')]\n",
    "    text_stem_join = ' '.join(text_stem)\n",
    "    return text_stem_join"
   ]
  },
  {
   "cell_type": "code",
   "execution_count": 113,
   "metadata": {},
   "outputs": [],
   "source": [
    "corpus = ''\n",
    "for accident_cause in df.Summary:\n",
    "    corpus += accident_cause\n",
    "    corpus += ' '"
   ]
  },
  {
   "cell_type": "code",
   "execution_count": null,
   "metadata": {},
   "outputs": [],
   "source": [
    "# corpus"
   ]
  },
  {
   "cell_type": "code",
   "execution_count": null,
   "metadata": {},
   "outputs": [],
   "source": [
    "stemmed_corpus = stem(corpus) # corpus is a numpy array FIXME\n",
    "# stemmed_corpus"
   ]
  },
  {
   "cell_type": "code",
   "execution_count": 116,
   "metadata": {
    "collapsed": true
   },
   "outputs": [],
   "source": [
    "from sklearn.feature_extraction.text import TfidfVectorizer"
   ]
  },
  {
   "cell_type": "code",
   "execution_count": 132,
   "metadata": {},
   "outputs": [
    {
     "data": {
      "text/plain": [
       "True"
      ]
     },
     "execution_count": 132,
     "metadata": {},
     "output_type": "execute_result"
    }
   ],
   "source": [
    "tfidf = TfidfVectorizer(norm='l2', use_idf=True, stop_words='english')\n",
    "my_stop_words = ['flight', 'aircraft', 'crashed', 'plane', 'passenger', 'suffer', 'approximately', 'crash', 'wa', 'caus', 'pilot', 'crew']\n",
    "stop_words = tfidf.get_stop_words().union(my_stop_words)\n",
    "'flight' in stop_words"
   ]
  },
  {
   "cell_type": "code",
   "execution_count": 118,
   "metadata": {},
   "outputs": [],
   "source": [
    "# %matplotlib\n",
    "from wordcloud import WordCloud"
   ]
  },
  {
   "cell_type": "code",
   "execution_count": 133,
   "metadata": {},
   "outputs": [
    {
     "data": {
      "image/png": "[encoded data removed]",
      "text/plain": [
       "<matplotlib.figure.Figure at 0x7fc76c4bf828>"
      ]
     },
     "metadata": {},
     "output_type": "display_data"
    }
   ],
   "source": [
    "wc = WordCloud(background_color='white', max_words=20, stopwords=stop_words)\n",
    "# wc_ = WordCloud(background_color='white', max_words=30, stopwords=tfidf.get_stop_words())\n",
    "\n",
    "wc.generate(stemmed_corpus)\n",
    "# wc_.generate(top_corpus_two)\n",
    "\n",
    "fig = plt.figure()\n",
    "# a = fig.add_subplot(1,2,1)\n",
    "imgplot = plt.imshow(wc)\n",
    "plt.title(\"Accident of Birth\")\n",
    "plt.axis(\"off\")\n",
    "\n",
    "# a = fig.add_subplot(1,2,2)\n",
    "# imgplot = plt.imshow(wc_)\n",
    "# plt.title(top_title_two)\n",
    "# plt.axis(\"off\")\n",
    "\n",
    "plt.show()"
   ]
  }
 ],
 "metadata": {
  "kernelspec": {
   "display_name": "Python 3",
   "language": "python",
   "name": "python3"
  },
  "language_info": {
   "codemirror_mode": {
    "name": "ipython",
    "version": 3
   },
   "file_extension": ".py",
   "mimetype": "text/x-python",
   "name": "python",
   "nbconvert_exporter": "python",
   "pygments_lexer": "ipython3",
   "version": "3.5.3"
  }
 },
 "nbformat": 4,
 "nbformat_minor": 2
}
